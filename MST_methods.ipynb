{
 "cells": [
  {
   "attachments": {},
   "cell_type": "markdown",
   "metadata": {},
   "source": [
    "# LAB3: Algorytmy grafowe – minimalne drzewo rozpinające grafu"
   ]
  },
  {
   "attachments": {},
   "cell_type": "markdown",
   "metadata": {},
   "source": [
    "## Zadanie 1"
   ]
  },
  {
   "cell_type": "code",
   "execution_count": 3,
   "metadata": {},
   "outputs": [],
   "source": [
    "from typing import List, Dict, Tuple, Set\n",
    "edge = Tuple[int, int]\n",
    "graph = Dict[int, List]\n",
    "inf = float('inf')\n",
    "\n",
    "#implementacja wybranego grafu (nieskierowany, cykliczny, spójny) za pomocą słownika, którego kluczami są wierzchołki, a wartościami lista połączonych wierzchołków\n",
    "G: graph = { 1: [2,4], 2: [1, 3], 3: [2, 7], 4: [1, 5, 7], 5: [4, 6], 6: [5], 7: [3, 4, 8], 8: [7, 9], 9: [8, 10], 10: [9] }\n",
    "a = {(1,2): 4, (1,4): 3, (2,3): 1, (3,7): 5, (4,5): 1, (4,7): 1, (5,6): 6, (7,8): 2, (8,9): 3, (9,10): 1}\n",
    "def DPA(G: graph, a: Dict, s: int) -> Tuple[Set[edge], int]:\n",
    "    size_graph = len(G) #inicjalziacja \n",
    "    beta = [inf for _ in range(size_graph)]\n",
    "    alfa = [0 for _ in range(size_graph)]\n",
    "    sum = 0 #inicjalizacja zmiennych: suma krawędzi\n",
    "    A = set()   #inicjalizacja zmiennych: zbiór krawędzi MST\n",
    "    Q = list(range(1,size_graph+1))  #inicjalizacja zmiennych: zbiór wierzchołków nienależących do MST\n",
    "    Q.remove(s) #usunięcie ze zbioru wierzchołków nienależących do MST\n",
    "    beta[s-1] = 0   #ustawienie wagi początkowego wierzchołka\n",
    "    u_prev = s #ustawienie s jako poprzedni wierzchołek\n",
    "    while Q:    #iteracja po wierzchołkach nienależących do MST \n",
    "        for u_q in Q: #iteracja po kazdym wierzchołku należącym do Q\n",
    "            for u in G[u_prev]: #iteracja po kazdym wierzchołku należącym sąsiada wierzchołka u\n",
    "                if a[u-1][u_prev-1] < beta[u-1]: #jeżeli \n",
    "                    alfa[u-1] = u_prev\n",
    "                    beta[u-1] = a[u-1][u_prev-1]\n",
    "            \n",
    "        prev_min = inf\n",
    "        for u in Q:\n",
    "            if beta[u-1] < prev_min:\n",
    "                prev_min = beta[u-1]\n",
    "                u_prev = u\n",
    "\n",
    "        Q.remove(u_prev)\n",
    "        A.add((alfa[u_prev-1], u_prev))\n",
    "        sum += a[alfa[u_prev-1]-1][u_prev-1]\n",
    "    return (A, sum)            "
   ]
  },
  {
   "cell_type": "code",
   "execution_count": 4,
   "metadata": {},
   "outputs": [
    {
     "name": "stdout",
     "output_type": "stream",
     "text": [
      "({(2, 4), (1, 2), (6, 7), (3, 6), (1, 3), (3, 5)}, 12)\n"
     ]
    }
   ],
   "source": [
    "graph = { 1: [2, 3, 4, 5], 2: [1, 4, 7], 3: [1, 4, 5, 6], 4: [1, 2, 3, 6, 7], 5: [1, 3, 6], 6: [3, 4, 5, 7], 7: [2, 4, 6] }\n",
    "\n",
    "a = [[inf, 2, 1, 4, 3, inf, inf], [2, inf, inf, 3, inf, inf, 5], [1, inf, inf, 7, 1, 2, inf], [4, 3, 7, inf, inf, 4, 4], [3, inf, 1, inf, inf, 3, inf], [inf, inf, 2, 4, 3, inf, 3], [inf, 5, inf, 4, inf, 2, inf]]\n",
    "print(DPA(graph, a, 1))"
   ]
  }
 ],
 "metadata": {
  "kernelspec": {
   "display_name": "Python 3",
   "language": "python",
   "name": "python3"
  },
  "language_info": {
   "codemirror_mode": {
    "name": "ipython",
    "version": 3
   },
   "file_extension": ".py",
   "mimetype": "text/x-python",
   "name": "python",
   "nbconvert_exporter": "python",
   "pygments_lexer": "ipython3",
   "version": "3.10.1"
  },
  "orig_nbformat": 4
 },
 "nbformat": 4,
 "nbformat_minor": 2
}
