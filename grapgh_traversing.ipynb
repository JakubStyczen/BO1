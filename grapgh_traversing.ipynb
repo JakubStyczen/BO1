{
 "cells": [
  {
   "attachments": {},
   "cell_type": "markdown",
   "metadata": {},
   "source": [
    "# LAB2: Algorytmy grafowe – reprezentacja, algorytmy przeszukiwania\n"
   ]
  },
  {
   "attachments": {},
   "cell_type": "markdown",
   "metadata": {},
   "source": [
    "### Zadanie 1\n",
    "Reprezentacja w postaci maceirzy sąsiedztwa zapewnia dodawanie, sprawdzanie i usuwanie krawędzi w stałym czasie, natomiast posiada dużę wymagania pamięciowe - macierz, więc O(n<sup>2</sup>)\n",
    "\n",
    "Lista sąsiedztwa posiada stały czas dodawania nowej krawędzi oraz znacznie miejsze wymagania pamięciowe, gdyż będzie to suma liczby wierzchołków i krawędzi (w najgorszym wypadku), natomiast znacznie dłuższy czas usuwania i sprawdzania istnienia wierzchołków"
   ]
  },
  {
   "attachments": {},
   "cell_type": "markdown",
   "metadata": {},
   "source": [
    "### Zadanie 2\n",
    "W zadaniach przyjmę reprezentację grafu jako listę sąsiedztwa, gdyż wydaje się być prostsza w implementacji w Pythonie i zdecdyownie wygodniejsza do używania."
   ]
  },
  {
   "cell_type": "code",
   "execution_count": 6,
   "metadata": {},
   "outputs": [
    {
     "name": "stdout",
     "output_type": "stream",
     "text": [
      "[2, 3, 4, 7] [1]\n",
      "[1, 3] [1, 2]\n",
      "[1, 5] [1, 2, 3]\n",
      "[1, 8] [1, 2, 3, 4]\n",
      "[1] [1, 2, 3, 4, 7]\n",
      "[1, 5] [1, 2, 3, 4, 7]\n",
      "[3, 6] [1, 2, 3, 4, 7, 5]\n",
      "[4] [1, 2, 3, 4, 7, 5, 8]\n",
      "[3, 6] [1, 2, 3, 4, 7, 5, 8]\n",
      "[5, 9] [1, 2, 3, 4, 7, 5, 8, 6]\n",
      "[5, 9] [1, 2, 3, 4, 7, 5, 8, 6]\n",
      "[6, 10] [1, 2, 3, 4, 7, 5, 8, 6, 9]\n",
      "[6, 10] [1, 2, 3, 4, 7, 5, 8, 6, 9]\n",
      "[9] [1, 2, 3, 4, 7, 5, 8, 6, 9, 10]\n",
      "[9] [1, 2, 3, 4, 7, 5, 8, 6, 9, 10]\n",
      "([1, 2, 3, 4, 7, 5, 8, 6, 9, 10], True, True)\n"
     ]
    }
   ],
   "source": [
    "from typing import List, Dict, Tuple\n",
    "graph = Dict[int, List]\n",
    "G: graph = {1:[2,3,4,7], 2:[1,3], 3:[1,5], 4:[1,8],5:[3,6], 6: [5,9], 7:[1], 8: [4], 9: [6,10], 10:[9]}\n",
    "\n",
    "def BFS(G: graph, s: int) -> Tuple[List[int], bool, bool]:\n",
    "    acyclic = True\n",
    "    consistent = True\n",
    "    No = []\n",
    "    FIFO = []\n",
    "    FIFO.append(s)\n",
    "    while FIFO:\n",
    "        v = FIFO.pop(0)\n",
    "        if v not in No:\n",
    "            No.append(v)\n",
    "        same_vertex_visited = 0\n",
    "        if v not in G.keys():\n",
    "            continue\n",
    "        print(G[v], No)\n",
    "        for u in G[v]:\n",
    "            if u not in No:\n",
    "                FIFO.append(u)\n",
    "            else:\n",
    "                same_vertex_visited += 1\n",
    "                if same_vertex_visited > 1:\n",
    "                    acyclic = False\n",
    "\n",
    "    if len(G.keys()) > len(No):\n",
    "        consistent = False\n",
    "\n",
    "    return No, acyclic, consistent\n",
    "\n",
    "print(BFS(G, 1))"
   ]
  }
 ],
 "metadata": {
  "kernelspec": {
   "display_name": "Python 3",
   "language": "python",
   "name": "python3"
  },
  "language_info": {
   "codemirror_mode": {
    "name": "ipython",
    "version": 3
   },
   "file_extension": ".py",
   "mimetype": "text/x-python",
   "name": "python",
   "nbconvert_exporter": "python",
   "pygments_lexer": "ipython3",
   "version": "3.10.1"
  },
  "orig_nbformat": 4,
  "vscode": {
   "interpreter": {
    "hash": "878a909d54ef6adc96b0f15995ef8308c8e4d671f65c5340b71027579acc2079"
   }
  }
 },
 "nbformat": 4,
 "nbformat_minor": 2
}
