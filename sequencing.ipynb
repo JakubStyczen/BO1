{
 "cells": [
  {
   "attachments": {},
   "cell_type": "markdown",
   "metadata": {},
   "source": [
    "# LAB9: Problem szeregowania zadań – algorytm Johnsona\n",
    "\n",
    "### Zadanie 1"
   ]
  },
  {
   "attachments": {},
   "cell_type": "markdown",
   "metadata": {},
   "source": [
    "Implementacja algorytmu Johnsona dla problemu 2 maszyn"
   ]
  },
  {
   "cell_type": "code",
   "execution_count": 10,
   "metadata": {},
   "outputs": [],
   "source": [
    "from copy import deepcopy\n",
    "inf = float('inf')\n",
    "\n",
    "def johnson(tasks):\n",
    "    #algorytm przyjmuje listę 2xN, gdzie 2 to liczba maszyn a N liczba zadań    inf = float('inf')\n",
    "    cp = deepcopy(tasks) #utowrzenie kopii listy zadań\n",
    "    # utworzenie pustej listy 2xN do umieszczania danych wyjściowych\n",
    "    output = [[None for _ in range(len(tasks[0]))] for _ in range(2)]\n",
    "    #index wstawiania zadań na początek\n",
    "    start_idx = 0\n",
    "    #index wstawiania zadań na koniec\n",
    "    end_idx = len(tasks[0])-1\n",
    "    min_elem = []\n",
    "    min_idx = []\n",
    "    \n",
    "    #algorytm wykonuje się dopóki indeksy wstawiania zadań nie będą równe\n",
    "    while start_idx <= end_idx:\n",
    "        #iteracja przez wiersze i kolumny w poszukiwaniu minimum\n",
    "        for row_id, row in enumerate(cp):\n",
    "            #dodwanie minimum z danego wierwsza oraz indeksu danego minima\n",
    "            min_elem.append(min(row))\n",
    "            min_idx.append(cp[row_id].index(min_elem[row_id]))\n",
    "        #jeżeli minimum jest w wierszu 0 lub są równe\n",
    "        if min_elem[0] < min_elem[1] or min_elem[0] == min_elem[1]:\n",
    "            #uzupełnienie wyjściowej listy o zadanie z obecnym minimum\n",
    "            output[0][start_idx] = cp[0][min_idx[0]]\n",
    "            output[1][start_idx] = cp[1][min_idx[0]]\n",
    "            #zwiększenie indeksu oraz ustawienie przetworzonego zadania na inf\n",
    "            start_idx += 1\n",
    "            cp[0][min_idx[0]] = inf\n",
    "            cp[1][min_idx[0]] = inf\n",
    "        #jeżeli minimum jest w wierszu 1 lub są równe\n",
    "        elif min_elem[0] > min_elem[1] or min_elem[0] == min_elem[1]:\n",
    "            #uzupełnienie wyjściowej listy o zadanie z obecnym minimum\n",
    "            output[0][end_idx] = cp[0][min_idx[1]]\n",
    "            output[1][end_idx] = cp[1][min_idx[1]]\n",
    "            #zmniejszenie indeksu oraz ustawienie przetworzonego zadania na inf\n",
    "            end_idx -= 1\n",
    "            cp[0][min_idx[1]] = inf\n",
    "            cp[1][min_idx[1]] = inf\n",
    "        #zerowanie \n",
    "        min_elem = []\n",
    "        min_idx = []\n",
    "    return output\n",
    "\n",
    "def ending_times(tasks):\n",
    "    cp = deepcopy(tasks)\n",
    "    for idx, elem in enumerate(cp[0][:-1]):\n",
    "        cp[0][idx+1] += cp[0][idx]\n",
    "        prev = cp[1][idx-1] if idx > 0 else -inf\n",
    "        cp[1][idx] += max([cp[0][idx], prev])\n",
    "    cp[1][-1] += cp[0][-1]\n",
    "    return cp"
   ]
  },
  {
   "attachments": {},
   "cell_type": "markdown",
   "metadata": {},
   "source": [
    "### Zadanie 2"
   ]
  },
  {
   "attachments": {},
   "cell_type": "markdown",
   "metadata": {},
   "source": [
    "Przykład uszeregowania dla 2 maszyn i 10 zadań wraz z zaprezentowaniem uporządkowania początkowego, końcowego oraz czasów końcowych."
   ]
  },
  {
   "cell_type": "code",
   "execution_count": 12,
   "metadata": {},
   "outputs": [
    {
     "name": "stdout",
     "output_type": "stream",
     "text": [
      "Uszeregowanie początkowe:\n",
      "[9, 6, 8, 7, 12, 3, 14, 15, 4, 5]\n",
      "[7, 3, 5, 10, 4, 6, 11, 20, 5, 2]\n",
      "\n",
      "Uszeregowanie końcowe:\n",
      "[3, 4, 7, 15, 14, 9, 8, 12, 6, 5]\n",
      "[6, 5, 10, 20, 11, 7, 5, 4, 3, 2]\n",
      "\n",
      "Czasy zakończeń:\n",
      "[3, 7, 14, 29, 43, 52, 60, 72, 78, 83]\n",
      "[9, 14, 24, 49, 60, 67, 72, 76, 81, 85]\n",
      "\n"
     ]
    }
   ],
   "source": [
    "# tasks = [\n",
    "#     [9, 6, 8, 7, 12, 3],\n",
    "#     [7, 3, 5, 10, 4, 7]\n",
    "# ]\n",
    "\n",
    "tasks = [\n",
    "    [9, 6, 8, 7, 12, 3, 14, 15, 4, 5],\n",
    "    [7, 3, 5, 10, 4, 6, 11, 20, 5, 2]\n",
    "]\n",
    "print(f'Uszeregowanie początkowe:\\n{tasks[0]}\\n{tasks[1]}\\n')\n",
    "tasks_ordered = johnson(tasks)\n",
    "print(f'Uszeregowanie końcowe:\\n{tasks_ordered[0]}\\n{tasks_ordered[1]}\\n')\n",
    "end_times = ending_times(tasks_ordered)\n",
    "print(f'Czasy zakończeń:\\n{end_times[0]}\\n{end_times[1]}\\n')"
   ]
  },
  {
   "attachments": {},
   "cell_type": "markdown",
   "metadata": {},
   "source": [
    "### Zadanie 3"
   ]
  },
  {
   "attachments": {},
   "cell_type": "markdown",
   "metadata": {},
   "source": [
    "* Powyższy problem posiada następujące oznaczenie w notavcji Grahama: F2||Cmax. Jest to problem przepływowy flow-shop, w którym wszytskie zadania wyknywane są wedłueg tej samej sekwencji, a każda operacja z sekwencji wyknywana jest na innej maszynie. W tym przypadku liczba maszyn wynosi 2. Pole || oznacza brak dodatkowych ograniczeń technolognicznych. Cmax to funckja celu biorąca pod uwagę maksymalny czas wykonania się całej sekwencji, który jest minimalizowany.\n",
    "* Przy 2 takich samych minimach wybieramy np. pierwsze z nich a czas dla takiego alternatywnego uszeregowania będzie taki sam.\n",
    "* W tym przypadku nie ma dodatkowych warunków. W algorytmie Johnsona dla 3 maszyn musi być spełniony\n",
    "warunek taki, że najmniejszy koszt dla maszyny 1 musi być większy lub równy od największego kosztu maszyny 2 lub największy koszt maszyny 2 musi być mniejszy bądź równy od od najmniejszego kosztu maszyny 3. Dodatkowo algorytm Johnsona dla 2 maszyn jest algorytmem ścisłym podczas gdy algorytm CDS zwraca rozwiązanie przybliżone.\n",
    "* Złożoność obliczeniowa tego algorytmu to O(n*logn)"
   ]
  }
 ],
 "metadata": {
  "kernelspec": {
   "display_name": "Python 3",
   "language": "python",
   "name": "python3"
  },
  "language_info": {
   "codemirror_mode": {
    "name": "ipython",
    "version": 3
   },
   "file_extension": ".py",
   "mimetype": "text/x-python",
   "name": "python",
   "nbconvert_exporter": "python",
   "pygments_lexer": "ipython3",
   "version": "3.10.1"
  },
  "orig_nbformat": 4
 },
 "nbformat": 4,
 "nbformat_minor": 2
}
