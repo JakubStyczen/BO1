{
 "cells": [
  {
   "attachments": {},
   "cell_type": "markdown",
   "metadata": {},
   "source": [
    "# LAB10: Programowanie dynamiczne – liniowe zagadnienie załadunku\n",
    "\n",
    "### Zadanie 1"
   ]
  },
  {
   "attachments": {},
   "cell_type": "markdown",
   "metadata": {},
   "source": [
    "Implementacja Binarnego problemu plecakowego 0/1:"
   ]
  },
  {
   "cell_type": "code",
   "execution_count": 50,
   "metadata": {},
   "outputs": [
    {
     "name": "stdout",
     "output_type": "stream",
     "text": [
      "Macierz deyczji optymalnych\n",
      "[[0. 0. 0. 0.]\n",
      " [0. 0. 0. 0.]\n",
      " [0. 0. 0. 0.]\n",
      " [1. 0. 0. 0.]\n",
      " [1. 0. 1. 0.]\n",
      " [1. 0. 1. 0.]\n",
      " [1. 1. 0. 0.]\n",
      " [1. 1. 1. 0.]]\n",
      "Macierz wartości funckji f(yi)\n",
      "[[  0.   0.   0. -inf]\n",
      " [  0.   0.   0. -inf]\n",
      " [  0.   0.   0. -inf]\n",
      " [  2.   2.   2. -inf]\n",
      " [  2.   2.   3. -inf]\n",
      " [  2.   2.   3. -inf]\n",
      " [  2.   4.   4. -inf]\n",
      " [  2.   4.   5.   5.]]\n",
      "x0=0.0, f(y1)=5.0,\n",
      "x1=1.0, f(y2)=5.0,\n",
      "x2=0.0, f(y3)=2.0,\n",
      "x3=1.0, f(y4)=2.0,\n",
      "\n"
     ]
    }
   ],
   "source": [
    "import numpy as np\n",
    "\n",
    "def Loading_problem(T, N, a, c):\n",
    "    \"\"\"\n",
    "    T - ładowność\n",
    "    N - ilość rodzajów ładunków\n",
    "    a - lista wag ładunków\n",
    "    c - lista zysków łądunków\n",
    "    \"\"\"\n",
    "    \n",
    "    #inicjalizacja tablic wyjściowych zawierających ilości ładunków\n",
    "    #oraz wartości funckji \n",
    "    x = np.zeros((T+1, N))\n",
    "    f = np.zeros((T+1, N))\n",
    "    f.fill(-np.inf)\n",
    "\n",
    "    #iteracja po etapach i= <0, N-1>, ale etapy wykonują się od końca (reverse_idx)\n",
    "    for i in range(N): #etap\n",
    "        for j in range(T+1): #waga yi <0, T>\n",
    "            \n",
    "            #pominięcie części obliczeń pierwszego etapu\n",
    "            if i == N-1 and j < T:\n",
    "                continue\n",
    "            \n",
    "            #index pomocniczy do iteracji od końca\n",
    "            reverse_idx = N - i - 1\n",
    "        \n",
    "            #maksymalna ilość przedmiotu o wadze a[] dla wagi j\n",
    "            ymax = 1 if  j // a[reverse_idx] else 0\n",
    "            #dla ostatniego etapu ustawiamy wartości bo nie ma wcześniejszych\n",
    "            if i == 0:\n",
    "                x[j][i] = ymax\n",
    "                f[j][i] = ymax*c[reverse_idx]\n",
    "\n",
    "            else:\n",
    "                # iteracja po wartościach xi do ymax\n",
    "                for xi in range(ymax+1):\n",
    "                    #obliczenie maksymalnego zysku dla xi\n",
    "                    gain = xi*c[reverse_idx] + f[j - a[reverse_idx]*xi][i - 1]\n",
    "\n",
    "                    #sprawdzenie nowy zysk jest większy od obecnego dla innej wartości xi\n",
    "                    if gain > f[j][i]:\n",
    "                        x[j][i] = xi\n",
    "                        f[j][i] = gain\n",
    "\n",
    "    #formatowanie strategi optymalnej\n",
    "    optimal_strategy = \"\"\n",
    "    y = T\n",
    "    for i in range(N-1, -1, -1):\n",
    "        optimal_strategy += f'x{N - i - 1}={x[y, i]}, f(y{N - i})={f[y, i]},\\n'\n",
    "        y -= int(x[y, i]*a[N - i - 1])\n",
    "\n",
    "    return x, f, optimal_strategy\n",
    "\n",
    "c = np.array([1, 3, 2, 2])\n",
    "a = np.array([1, 4, 3, 3])\n",
    "T = 7\n",
    "N = 4\n",
    "\n",
    "#Testowy zestaw\n",
    "x, f, optimal_strategy =  Loading_problem(T, N, a, c)\n",
    "print(f\"Macierz deyczji optymalnych\\n{x}\")\n",
    "print(f\"Macierz wartości funckji f(yi)\\n{f}\")\n",
    "print(optimal_strategy)"
   ]
  },
  {
   "attachments": {},
   "cell_type": "markdown",
   "metadata": {},
   "source": [
    "### Zadanie 2"
   ]
  },
  {
   "attachments": {},
   "cell_type": "markdown",
   "metadata": {},
   "source": [
    "Wykonanie algorytmu dla przykładowych 10 zmiennych:"
   ]
  },
  {
   "cell_type": "code",
   "execution_count": 45,
   "metadata": {},
   "outputs": [
    {
     "name": "stdout",
     "output_type": "stream",
     "text": [
      "Macierz deyczji optymalnych\n",
      "[[0. 0. 0. 0. 0. 0. 0. 0. 0. 0.]\n",
      " [0. 0. 0. 0. 0. 0. 0. 0. 0. 0.]\n",
      " [0. 1. 0. 0. 0. 0. 0. 0. 0. 0.]\n",
      " [1. 0. 0. 0. 0. 0. 0. 0. 0. 0.]\n",
      " [1. 0. 0. 0. 0. 0. 0. 0. 0. 0.]\n",
      " [1. 1. 0. 0. 0. 0. 0. 0. 0. 0.]\n",
      " [1. 1. 0. 0. 0. 0. 0. 0. 0. 0.]\n",
      " [1. 1. 1. 1. 0. 0. 0. 0. 0. 0.]\n",
      " [1. 1. 1. 1. 0. 0. 1. 0. 0. 0.]\n",
      " [1. 1. 1. 0. 0. 0. 0. 0. 0. 0.]\n",
      " [1. 1. 1. 0. 0. 0. 1. 0. 0. 0.]\n",
      " [1. 1. 1. 1. 0. 0. 0. 0. 0. 0.]\n",
      " [1. 1. 1. 1. 0. 0. 1. 0. 0. 0.]\n",
      " [1. 1. 1. 1. 1. 0. 0. 0. 0. 0.]\n",
      " [1. 1. 1. 1. 1. 0. 1. 0. 0. 0.]\n",
      " [1. 1. 1. 1. 1. 1. 0. 0. 0. 0.]\n",
      " [1. 1. 1. 1. 1. 1. 1. 0. 0. 0.]\n",
      " [1. 1. 1. 1. 1. 1. 1. 1. 0. 0.]\n",
      " [1. 1. 1. 1. 1. 1. 1. 0. 0. 0.]\n",
      " [1. 1. 1. 1. 1. 1. 1. 1. 0. 0.]\n",
      " [1. 1. 1. 1. 1. 1. 1. 1. 1. 0.]]\n"
     ]
    }
   ],
   "source": [
    "T = 20\n",
    "N = 10\n",
    "a = [1, 2, 3, 3, 2, 2, 2, 4, 2, 3]\n",
    "\n",
    "c = [1, 2, 4, 4, 3, 3, 3, 6, 4, 7]\n",
    "\n",
    "\n",
    "x, f, optimal_strategy =  Loading_problem(T, N, a, c)\n",
    "print(f\"Macierz deyczji optymalnych\\n{x}\")"
   ]
  },
  {
   "cell_type": "code",
   "execution_count": 46,
   "metadata": {},
   "outputs": [
    {
     "name": "stdout",
     "output_type": "stream",
     "text": [
      "Macierz wartości funckji f(yi)\n",
      "[[  0.   0.   0.   0.   0.   0.   0.   0.   0. -inf]\n",
      " [  0.   0.   0.   0.   0.   0.   0.   0.   0. -inf]\n",
      " [  0.   4.   4.   4.   4.   4.   4.   4.   4. -inf]\n",
      " [  7.   7.   7.   7.   7.   7.   7.   7.   7. -inf]\n",
      " [  7.   7.   7.   7.   7.   7.   7.   7.   7. -inf]\n",
      " [  7.  11.  11.  11.  11.  11.  11.  11.  11. -inf]\n",
      " [  7.  11.  11.  11.  11.  11.  11.  11.  11. -inf]\n",
      " [  7.  11.  13.  14.  14.  14.  14.  14.  14. -inf]\n",
      " [  7.  11.  13.  14.  14.  14.  15.  15.  15. -inf]\n",
      " [  7.  11.  17.  17.  17.  17.  17.  17.  17. -inf]\n",
      " [  7.  11.  17.  17.  17.  17.  18.  18.  18. -inf]\n",
      " [  7.  11.  17.  20.  20.  20.  20.  20.  20. -inf]\n",
      " [  7.  11.  17.  20.  20.  20.  21.  21.  21. -inf]\n",
      " [  7.  11.  17.  20.  23.  23.  23.  23.  23. -inf]\n",
      " [  7.  11.  17.  20.  23.  23.  24.  24.  24. -inf]\n",
      " [  7.  11.  17.  20.  23.  26.  26.  26.  26. -inf]\n",
      " [  7.  11.  17.  20.  23.  26.  27.  27.  27. -inf]\n",
      " [  7.  11.  17.  20.  23.  26.  27.  28.  28. -inf]\n",
      " [  7.  11.  17.  20.  23.  26.  30.  30.  30. -inf]\n",
      " [  7.  11.  17.  20.  23.  26.  30.  31.  31. -inf]\n",
      " [  7.  11.  17.  20.  23.  26.  30.  31.  32.  32.]]\n"
     ]
    }
   ],
   "source": [
    "print(f\"Macierz wartości funckji f(yi)\\n{f}\")"
   ]
  },
  {
   "cell_type": "code",
   "execution_count": 47,
   "metadata": {},
   "outputs": [
    {
     "name": "stdout",
     "output_type": "stream",
     "text": [
      "Strategia optymalna, w której zawiera się wektor decyzyjny (kolumna xi)\n",
      "oraz wartość uzyskanej funkcji celu:\n",
      "\n",
      "x0=0.0, f(y1)=32.0,\n",
      "x1=1.0, f(y2)=32.0,\n",
      "x2=0.0, f(y3)=30.0,\n",
      "x3=1.0, f(y4)=30.0,\n",
      "x4=1.0, f(y5)=26.0,\n",
      "x5=1.0, f(y6)=23.0,\n",
      "x6=1.0, f(y7)=20.0,\n",
      "x7=1.0, f(y8)=17.0,\n",
      "x8=1.0, f(y9)=11.0,\n",
      "x9=1.0, f(y10)=7.0,\n",
      "\n"
     ]
    }
   ],
   "source": [
    "print(f\"Strategia optymalna, w której zawiera się wektor decyzyjny (kolumna xi)\\noraz wartość uzyskanej funkcji celu:\\n\\n{optimal_strategy}\")"
   ]
  },
  {
   "attachments": {},
   "cell_type": "markdown",
   "metadata": {},
   "source": [
    "W ten sposób udało się uzyskać wartość funkcji celu f jako 32."
   ]
  },
  {
   "attachments": {},
   "cell_type": "markdown",
   "metadata": {},
   "source": [
    "### Zadanie 3"
   ]
  },
  {
   "attachments": {},
   "cell_type": "markdown",
   "metadata": {},
   "source": [
    "1. Jakie założenia muszą być spełnione dla wag i zysków?\n",
    "Wartości wag i zysków powinny być dodatnie. Dodtkowo bierzemy pod uwagę wagę w tej samej jednostce miary dla każdego przedmiotu.\n",
    "\n",
    "2. Co się stanie jeśli te założenia nie spełnimy?\n",
    "    Jeżeli wartości wag lub zysków będą ujemne to możemy otrzymać ujemny wynik zysku całkowitego co oznacza stratę. W tym przypadku algorytm normalnie się wykona zwracając ujemny wynik.\n",
    "\n",
    "3. Jaka jest złożoność obliczeniowa algorytmu?\n",
    "    W teorii złożoność takiego algorytmu powinna wynosić (zgodnie z oznaczeniami powyżej T- pojemność, N -  liczba produktów) O(N*T), gdyż wykonywana jest iteracja po całej macierzy rozmiaru TxN."
   ]
  }
 ],
 "metadata": {
  "kernelspec": {
   "display_name": "Python 3",
   "language": "python",
   "name": "python3"
  },
  "language_info": {
   "codemirror_mode": {
    "name": "ipython",
    "version": 3
   },
   "file_extension": ".py",
   "mimetype": "text/x-python",
   "name": "python",
   "nbconvert_exporter": "python",
   "pygments_lexer": "ipython3",
   "version": "3.9.13"
  },
  "orig_nbformat": 4
 },
 "nbformat": 4,
 "nbformat_minor": 2
}
