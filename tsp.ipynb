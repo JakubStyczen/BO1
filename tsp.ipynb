{
 "cells": [
  {
   "attachments": {},
   "cell_type": "markdown",
   "metadata": {},
   "source": [
    "# LAB6: Algorytmy grafowe – algorytmy zachłanne dla zagadnienia komiwojażera"
   ]
  },
  {
   "attachments": {},
   "cell_type": "markdown",
   "metadata": {},
   "source": [
    "# Zadanie 1\n",
    "Implementacje algorytmów poszukiwania rozwiązania problemu TSP:\n",
    "* FARIN"
   ]
  },
  {
   "cell_type": "code",
   "execution_count": 110,
   "metadata": {},
   "outputs": [],
   "source": [
    "from typing import List, Dict, Tuple, Set\n",
    "import matplotlib.pyplot as plt\n",
    "import networkx as nx\n",
    "import copy\n",
    "edge = Tuple[int, int]\n",
    "graph = Dict[int, List]\n",
    "inf = float('inf')\n",
    "\n",
    "\n",
    "\n",
    "def FARIN(G: graph, a: List[List[int]], s: int):\n",
    "    \"\"\"\n",
    "    Algorytm Farthest Insertion Heuristik FARIN, rozwiązujący problem komiwojażera(TSP),\n",
    "    przyjmujący graf \"G\", listę list wag krawędzi grafu \"a\" oraz wierzchołek startowy \"s\"\n",
    "    Algorytm zwraca krotkę zawierającą cykl Hamiltona i jego sumaryczną wagę\n",
    "    \"\"\"\n",
    "    cost = 0     #inicjalizacja kosztu drogi\n",
    "    path = [s]      #inicjalizacja listy wierzchołków cyklu Hamiltona, zaczynając od startowego s\n",
    "    unvisited = set(G.keys()) #zbiór wierzchołków nieodwiedzonych\n",
    "    unvisited.remove(s) #ze bioru tego usuwamy wierzchołek startowy\n",
    "    u_prev = s #ustawiamy wierzchołek startowy jako poprzedni\n",
    "    \n",
    "    while unvisited: #wykonujemy pętlę główną tak długo jak zostają jakieś wierzchołki do odwiedzenia\n",
    "        \n",
    "        #wybór następnego wierzchołka najbardziej odległy lub kilka odległych\n",
    "        a_row = [inf for _ in range(len(a))] #inicjalizacja listy\n",
    "        for unv in unvisited:\n",
    "            a_row[unv-1] = a[u_prev-1][unv-1] #przypisanie wag krawędzi z u_prev do każdego z nieodwiedzonych\n",
    "        sorted_a = sorted(a_row, reverse=True) #posortowanie\n",
    "        to_visit = []\n",
    "        curr_max = -inf\n",
    "        #wybór najdalszych\n",
    "        for v in sorted_a:\n",
    "            #jeżeli wierzchołek nie jest odwiedzony, jego waga != inf oraz jest większy lub równy (kilka o tej samej wadze) \n",
    "            if a_row.index(v)+1  in unvisited and v != inf and v >= curr_max:\n",
    "                curr_max = v\n",
    "                idx = a_row.index(v)\n",
    "                a_row[idx] = inf\n",
    "                to_visit.append(idx+1) #dodanie najdaljszych do listy do odwiedzenia z u_prev\n",
    "        \n",
    "        #przejscie przez wierzchołek lub wierzchołkiktóre są najdalej od u_prev        \n",
    "        for next in to_visit:\n",
    "            #ilość opcji wstawienia nowego wierzchołka\n",
    "            places = len(path)\n",
    "            #ustawienie zmiennych do aktualizowania ścieżki o najlepszym koszcie\n",
    "            min_cost = inf\n",
    "            best_cost_path = path\n",
    "            #iteracja przez możliwości wstawienia wierzchołka\n",
    "            for i in range(places):\n",
    "                #skopiowanie dotychczasowej ścieżki\n",
    "                optional_path = path[:]\n",
    "                #dodanie nowego wierzcholka na nową pozycję\n",
    "                optional_path.insert(i+1, next)\n",
    "                optional_path.append(s)\n",
    "                \n",
    "                #obliczenie kosztu nowej opcjonalej ścieżki\n",
    "                new_cost = 0\n",
    "                for idx, elem in enumerate(optional_path[:-1]):\n",
    "                    new_cost += a[elem-1][optional_path[idx+1]-1]\n",
    "                #jeżeli nowy koszt jest mniejszy bądz równy to aktualizujemy ścieżke\n",
    "                if min_cost >= new_cost:\n",
    "                    min_cost = new_cost\n",
    "                    best_cost_path = optional_path[:-1] \n",
    "                \n",
    "            #aktualizacja ścieżki do tej o najmniejszym koszcie \n",
    "            path = best_cost_path\n",
    "            #usunięcie wierzchołka obecnego z nieodwiedzonych \n",
    "            unvisited.remove(next)\n",
    "        \n",
    "        #ustawienie wierzchołka ostatnio dodanego na poprzedni\n",
    "        u_prev = next \n",
    "       \n",
    "    cost = min_cost #dodanie minimalnego kosztu\n",
    "    path.append(s) #dodanie wierzchołka początkwoego do domknięcia cyklu Hamiltona\n",
    "        \n",
    "    return cost, path"
   ]
  },
  {
   "attachments": {},
   "cell_type": "markdown",
   "metadata": {},
   "source": [
    "Test alorytmu dla przykładu z wykładu"
   ]
  },
  {
   "cell_type": "code",
   "execution_count": 112,
   "metadata": {},
   "outputs": [
    {
     "name": "stdout",
     "output_type": "stream",
     "text": [
      "(16, [1, 4, 2, 3, 5, 1])\n"
     ]
    }
   ],
   "source": [
    "graph = {\n",
    "    1: [2,3,4,5],\n",
    "    2: [1,3,4,5],\n",
    "    3: [1,2,4,5],\n",
    "    4: [1,2,3,5],\n",
    "    5: [1,2,3,4],\n",
    "}\n",
    "\n",
    "a = [\n",
    "    [inf, 5, 4, 6, 6],\n",
    "    [8, inf, 5, 3, 4],\n",
    "    [4, 3, inf, 3, 1],\n",
    "    [8, 2, 5, inf, 6],\n",
    "    [2, 2, 7, 0, inf]\n",
    "]\n",
    "\n",
    "print(FARIN(graph, a, 1))"
   ]
  },
  {
   "attachments": {},
   "cell_type": "markdown",
   "metadata": {},
   "source": [
    "# Zadanie 2"
   ]
  },
  {
   "attachments": {},
   "cell_type": "markdown",
   "metadata": {},
   "source": [
    "# Zadanie 3"
   ]
  }
 ],
 "metadata": {
  "kernelspec": {
   "display_name": "Python 3",
   "language": "python",
   "name": "python3"
  },
  "language_info": {
   "codemirror_mode": {
    "name": "ipython",
    "version": 3
   },
   "file_extension": ".py",
   "mimetype": "text/x-python",
   "name": "python",
   "nbconvert_exporter": "python",
   "pygments_lexer": "ipython3",
   "version": "3.9.13"
  },
  "orig_nbformat": 4
 },
 "nbformat": 4,
 "nbformat_minor": 2
}
