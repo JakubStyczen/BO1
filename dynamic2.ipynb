{
 "cells": [
  {
   "attachments": {},
   "cell_type": "markdown",
   "metadata": {},
   "source": [
    "# LAB11: Programowanie dynamiczne – Wyznaczanie optymalnej wielkości partii produkcyjnej\n",
    "\n",
    "### Zadanie 1"
   ]
  },
  {
   "cell_type": "code",
   "execution_count": 165,
   "metadata": {},
   "outputs": [
    {
     "name": "stdout",
     "output_type": "stream",
     "text": [
      "Macierz deyczji optymalnych\n",
      "[[ 3.  3.  4.  3.  3.  4.]\n",
      " [ 2.  5.  5.  5.  5. nan]\n",
      " [ 1.  4.  4.  4.  4. nan]\n",
      " [ 0.  0.  0.  0.  0. nan]\n",
      " [nan  0.  0.  0.  0. nan]]\n",
      "Macierz wartości funckji f(yi)\n",
      "[[ 19.  38.  52.  71.  90. 104.]\n",
      " [ 18.  30.  49.  68.  82.  inf]\n",
      " [ 15.  26.  45.  64.  78.  inf]\n",
      " [  0.  19.  38.  52.  71.  inf]\n",
      " [ inf  20.  32.  51.  70.  inf]]\n",
      "Strategia optymalna:\n",
      "x0=4.0, y0=0,\n",
      "x1=5.0, y1=1,\n",
      "x2=0.0, y2=3,\n",
      "x3=4.0, y3=0,\n",
      "x4=5.0, y4=1,\n",
      "x5=0.0, y5=3,\n",
      "        y6=0,\n",
      "Całkowity zminimalizowany koszt wynosi: 104.0\n"
     ]
    }
   ],
   "source": [
    "import numpy as np\n",
    "\n",
    "def Loading_problem(N, g, h, q, Y_max, Y_min, y0, yk):\n",
    "    \"\"\"\n",
    "    N - liczba miesięcy\n",
    "    g - koszt produkcji\n",
    "    h - koszt składowania\n",
    "    q -ilosc produktów w danym miesiącu\n",
    "    Y_min - pojemność minimalna magazynu\n",
    "    Y_max - pojemność maksymalna magazynu\n",
    "    y0 - stan na początku\n",
    "    yk - stan na końcu\n",
    "    \"\"\"\n",
    "    \n",
    "    yn = Y_max - Y_min + 1\n",
    "    #inicjalizacja tablic wyjściowych zawierających ilości ładunków\n",
    "    #oraz wartości funckji \n",
    "    x = np.zeros((Y_max+1, N))\n",
    "    f = np.zeros((Y_max+1, N))\n",
    "    f.fill(np.inf)\n",
    "    yi = np.array(range(Y_min, Y_max))\n",
    "\n",
    "    #iteracja po etapach i= <0, N-1>, ale etapy wykonują się od końca (reverse_idx)\n",
    "    for i in range(N): #etap\n",
    "        for j in range(Y_min, Y_max+1): #waga yi <ymin, ymax>\n",
    "            \n",
    "            #pominięcie części obliczeń pierwszego etapu\n",
    "            if i == N-1 and j > Y_min:\n",
    "                x[j, i] = np.NaN \n",
    "                f[j, i] = np.inf \n",
    "                continue\n",
    "            \n",
    "            #index pomocniczy do iteracji od końca\n",
    "            reverse_idx = N - i - 1\n",
    "        \n",
    "            #dla ostatniego etapu ustawiamy wartości bo nie ma wcześniejszych\n",
    "            if i == 0:\n",
    "                x_min = x_max = yk + q[reverse_idx] - j\n",
    "            # elif i == N-1:\n",
    "            #     x_min = x_max = y0 + q[reverse_idx] - j\n",
    "            #     print(x_min, x_max)\n",
    "            else:\n",
    "                x_min = max(Y_min + q[reverse_idx] - j, 0) \n",
    "                x_max = min(Y_max + q[reverse_idx] - j, len(g)-1)\n",
    "            if x_min > x_max or x_max < 0 or x_min < 0 or x_max > len(g)-1: \n",
    "                x[j, i] = np.NaN \n",
    "                f[j, i] = np.inf \n",
    "                continue\n",
    "\n",
    "            # else:\n",
    "            # iteracja po wartościach xi do ymax\n",
    "            for xi in range(x_min, x_max+1):\n",
    "                if i == 0:\n",
    "                    cost = g[xi] + h[j + xi - q[reverse_idx]]\n",
    "                else:\n",
    "                    #obliczenie maksymalnego zysku dla xi\n",
    "                    cost = h[j + xi - q[reverse_idx] - Y_min] + g[xi] + f[j + xi - q[reverse_idx]][i-1]\n",
    "                #sprawdzenie nowy zysk jest większy od obecnego dla innej wartości xi\n",
    "                if cost < f[j][i]:\n",
    "                    x[j][i] = xi\n",
    "                    f[j][i] = cost\n",
    "\n",
    "    #formatowanie strategi optymalnej\n",
    "    optimal_strategy = \"\"\n",
    "    yi = y0\n",
    "    for i in range(N-1, -1, -1):\n",
    "        optimal_strategy += f'x{N - i - 1}={x[yi - Y_min, i] - Y_min if i == N-1 else x[yi - Y_min, i]}, y{N - i - 1}={y0 if i == N-1 else yi - Y_min},\\n'\n",
    "        yi = int(yi + x[yi - Y_min, i] - q[N - i - 1])\n",
    "    s = ' '\n",
    "    optimal_strategy += f'{s :8}y{N - i}={yi - Y_min},\\n'\n",
    "    optimal_strategy += f'Całkowity zminimalizowany koszt wynosi: {f[Y_min][N-1]}'\n",
    "    \n",
    "    return x, f, optimal_strategy\n",
    "\n",
    "def print_all(x, f, optimal_strategy):\n",
    "    print(f\"Macierz deyczji optymalnych\\n{x}\")\n",
    "    print(f\"Macierz wartości funckji f(yi)\\n{f}\")\n",
    "    print(f'Strategia optymalna:\\n{optimal_strategy}')\n",
    "\n",
    "N = 6\n",
    "q = np.array([3, 3, 3, 3, 3, 3])\n",
    "h = np.array([0, 2, 4, 6, 8, 10])\n",
    "g = np.array([0, 15, 18, 19, 20, 24])\n",
    "\n",
    "# #Testowy zestaw z wykładu\n",
    "print_all(*Loading_problem(N, g, h, q, Y_max=4, Y_min=0, y0=0, yk=0))"
   ]
  },
  {
   "attachments": {},
   "cell_type": "markdown",
   "metadata": {},
   "source": [
    "### Zadanie 2"
   ]
  },
  {
   "cell_type": "code",
   "execution_count": 166,
   "metadata": {},
   "outputs": [
    {
     "name": "stdout",
     "output_type": "stream",
     "text": [
      "Macierz deyczji optymalnych\n",
      "[[ 0.  0.  0.  0.]\n",
      " [ 0.  0.  0.  0.]\n",
      " [nan nan  4.  4.]\n",
      " [ 5.  0.  3. nan]\n",
      " [ 4.  5.  2. nan]\n",
      " [ 3.  4.  1. nan]]\n",
      "Macierz wartości funckji f(yi)\n",
      "[[inf inf inf inf]\n",
      " [inf inf inf inf]\n",
      " [inf inf 66. 84.]\n",
      " [24. inf 64. inf]\n",
      " [21. 46. 61. inf]\n",
      " [19. 43. 57. inf]]\n",
      "Strategia optymalna:\n",
      "x0=2.0, y0=4,\n",
      "x1=4.0, y1=2,\n",
      "x2=5.0, y2=4,\n",
      "x3=5.0, y3=3,\n",
      "        y4=3,\n",
      "Całkowity zminimalizowany koszt wynosi: 84.0\n"
     ]
    }
   ],
   "source": [
    "g = np.array([2, 8, 12, 15, 17, 20]) \n",
    "h = np.array([1, 2, 3, 4]) \n",
    "q = np.array([4, 2, 6, 5])\n",
    "N = 4 \n",
    "Y_min = 2 \n",
    "Y_max = 5 \n",
    "y0 = 4 \n",
    "yk = 3 \n",
    "print_all(*Loading_problem(N, g, h, q, Y_max, Y_min, y0, yk))"
   ]
  },
  {
   "attachments": {},
   "cell_type": "markdown",
   "metadata": {},
   "source": [
    "### Zadanie 3"
   ]
  },
  {
   "attachments": {},
   "cell_type": "markdown",
   "metadata": {},
   "source": [
    "1. Jakie modyfikacje zagadnienia można dodać, aby rozszerzyć i bardziej dostosować model problemu do rzeczywistych uwarunkowań produkcyjnych?\n",
    "\n",
    "W przypadku każdego z wektorów kosztów, dostaw oraz magazynowania można sporządzić macierz, która różniłaby się w każdym miesiącu\n",
    "\n",
    "2. Jaka jest złożoność obliczeniowa algorytmu?\n",
    "\n",
    "Podobnie jak dla problemu plecakowego mamy zagnieżdzoną pętlę, która przechodzi po macierzy wymiaru \"Yn x N\" (Yn = Ymax - Ymin + 1, zakres magazynu x ilość miesięcy, faktycznie macierz może jest większa, ale przpadki z poza zakresu magazynu są pomijane w pierwszym warunku pętli). Co więcej dla każdego przypadku możemy mieć w najgorszym scenariuszu sprawdzenie każdej ilości xi z zakresu (x_min, x_max) gdzie x_max to maksymalna liczba produktów możliwa dow wyprodukowania w danym miesiącu. Zatem złożoność mogłaby wynosić maksymalnie O(x_max * Yn * N)"
   ]
  }
 ],
 "metadata": {
  "kernelspec": {
   "display_name": "Python 3",
   "language": "python",
   "name": "python3"
  },
  "language_info": {
   "codemirror_mode": {
    "name": "ipython",
    "version": 3
   },
   "file_extension": ".py",
   "mimetype": "text/x-python",
   "name": "python",
   "nbconvert_exporter": "python",
   "pygments_lexer": "ipython3",
   "version": "3.9.13"
  },
  "orig_nbformat": 4
 },
 "nbformat": 4,
 "nbformat_minor": 2
}
